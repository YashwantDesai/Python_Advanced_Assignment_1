{
 "cells": [
  {
   "cell_type": "markdown",
   "id": "0c27a818",
   "metadata": {},
   "source": [
    "# Yashwant Desai –  Python_Advanced_Assignment_1"
   ]
  },
  {
   "cell_type": "markdown",
   "id": "562e8679",
   "metadata": {},
   "source": [
    "Q1. What is the purpose of Python's OOP?"
   ]
  },
  {
   "cell_type": "markdown",
   "id": "48738a72",
   "metadata": {},
   "source": [
    "The purpose of python's object oriented programming (OOP) is to organize code around real-world concepts, promote reusability, enhance flexibility, and model complex systems in a structured manner. OOP achieves these goals through classes which encapsulate data and behaviour, inheritance for code sharing, and polymorphism for adaptable behaviour. This approach makes code more maintainable, scalable, and understandable."
   ]
  },
  {
   "cell_type": "markdown",
   "id": "05ef4d19",
   "metadata": {},
   "source": [
    "Q2. Where does an inheritance search look for an attribute?"
   ]
  },
  {
   "cell_type": "markdown",
   "id": "aea84261",
   "metadata": {},
   "source": [
    "When we use inheritance and attempt to access an attribute such as a method or variable on an object, the search for that attribute follows a specific order known as the method resolution order (MRO). An attribute search follows following order.\n",
    "o\tBegins in the current class.\n",
    "o\tMoves to parent classes from left to right.\n",
    "o\tContinues through the inheritance hierarchy.\n",
    "o\tEnds with built-in classes if not found earlier. This order ensures attribute consistency and avoids conflicts.\n"
   ]
  },
  {
   "cell_type": "code",
   "execution_count": 2,
   "id": "9a8e280c",
   "metadata": {},
   "outputs": [
    {
     "name": "stdout",
     "output_type": "stream",
     "text": [
      "[<class '__main__.Z'>, <class '__main__.X'>, <class '__main__.Y'>, <class '__main__.W'>, <class 'object'>]\n"
     ]
    }
   ],
   "source": [
    "class W:\n",
    "    pass\n",
    "class X(W):\n",
    "    pass\n",
    "class Y(W):\n",
    "    pass\n",
    "class Z(X, Y):\n",
    "    pass\n",
    "print(Z.mro())"
   ]
  },
  {
   "cell_type": "markdown",
   "id": "5fc4b73c",
   "metadata": {},
   "source": [
    "Q3. How do you distinguish between a class object and an instance object?"
   ]
  },
  {
   "cell_type": "markdown",
   "id": "d7cbcdc2",
   "metadata": {},
   "source": [
    "A class object is a blueprint that defines attributes and methods for creating instances. An instance object is a specific occurrence of a class, with its unique attribute values. Class objects define the template, while instance objects are the actual data-containing entities created from the class."
   ]
  },
  {
   "cell_type": "markdown",
   "id": "2cf5601e",
   "metadata": {},
   "source": [
    "Q4. What makes the first argument in a class’s method function special?"
   ]
  },
  {
   "cell_type": "markdown",
   "id": "a1875a34",
   "metadata": {},
   "source": [
    "The first argument in a class's method function, conventionally named self, is special and crucially important. It refers to the instance of the class that the method is being called on. This argument allows methods to access and manipulate the instance's attributes and call other methods within the class. The self parameter is an instance reference, automatically passed to instance methods. It enables methods to interact with the instance's attributes and behaviour. Using self, you can differentiate between instance-level attributes and class-level attributes. It’s a fundamental part of how instance-specific data and behaviour are handled in class methods."
   ]
  },
  {
   "cell_type": "raw",
   "id": "e9f555b1",
   "metadata": {},
   "source": [
    "Q5. What is the purpose of the __init__ method?"
   ]
  },
  {
   "cell_type": "raw",
   "id": "d399b877",
   "metadata": {},
   "source": [
    "The primary purpose of the __init__ method is to initialize the attributes (variables) of the instance with values provided as arguments during object creation. The __init__ method is executed automatically when a new instance of a class is created. It initializes the attributes of the instance, setting them to specific initial values. Any parameters passed to the __init__ method are used to provide initial values to the instance's attributes."
   ]
  },
  {
   "cell_type": "markdown",
   "id": "77c48b61",
   "metadata": {},
   "source": [
    "Q6. What is the process for creating a class instance?"
   ]
  },
  {
   "cell_type": "markdown",
   "id": "62a40265",
   "metadata": {},
   "source": [
    "We can create a class instance as per following steps.\n",
    "1.\tDefine the Class: Create a class by defining it using the class keyword. Inside the class, we can define attributes and methods that will be associated with instances.\n",
    "2.\tInstantiate the Class: To create an instance of the class, call the class like a function, passing any required arguments to the __init__ method  if it's defined in the class. This method is automatically called during instantiation to initialize attributes.\n",
    "3.\tAccess Attributes and Methods: Once the instance is created, you can access its attributes (variables) and methods (functions) using dot notation (instance.attribute or instance.method()).\n"
   ]
  },
  {
   "cell_type": "code",
   "execution_count": 4,
   "id": "52737831",
   "metadata": {},
   "outputs": [
    {
     "name": "stdout",
     "output_type": "stream",
     "text": [
      "Hey\n",
      "tommy barks!\n"
     ]
    }
   ],
   "source": [
    "class Dog:\n",
    "    def __init__(self, name, age):\n",
    "        self.name = name\n",
    "        self.age = age\n",
    "    def bark(self):\n",
    "        print(f\"{self.name} barks!\")\n",
    "dog1 = Dog(\"Hey\", 3)\n",
    "dog2 = Dog(\"tommy\", 5)\n",
    "\n",
    "print(dog1.name)\n",
    "dog2.bark()"
   ]
  },
  {
   "cell_type": "markdown",
   "id": "d7cd1011",
   "metadata": {},
   "source": [
    "Q7. What is the process for creating a class?"
   ]
  },
  {
   "cell_type": "raw",
   "id": "e4b0727f",
   "metadata": {},
   "source": [
    "To create a class following are steps\n",
    "1.\tDefine the class: Use the class keyword followed by the class name to define the class.\n",
    "2.\tDefine attributes and methods: Inside the class block, define attributes (variables) and methods (functions) that will be associated with instances of the class.\n",
    "3.\tConstructor (__init__): Optionally, define a special method named __init__. This method is called when an instance is created and is used to initialize attributes.\n",
    "4.\tInstantiate the Class: To create an instance of the class, call the class like a function, possibly passing any required arguments to the __init__ method.\n"
   ]
  },
  {
   "cell_type": "code",
   "execution_count": 5,
   "id": "675364b2",
   "metadata": {},
   "outputs": [
    {
     "name": "stdout",
     "output_type": "stream",
     "text": [
      "Toyota\n",
      "The Ford Mustang's engine is running.\n"
     ]
    }
   ],
   "source": [
    "class Car:\n",
    "    car_count = 0\n",
    "    def __init__(self, brand, model):\n",
    "        self.brand = brand\n",
    "        self.model = model\n",
    "        Car.car_count += 1\n",
    "    def start_engine(self):\n",
    "        print(f\"The {self.brand} {self.model}'s engine is running.\")\n",
    "car1 = Car(\"Toyota\", \"Camry\")\n",
    "car2 = Car(\"Ford\", \"Mustang\")\n",
    "print(car1.brand)\n",
    "car2.start_engine()"
   ]
  },
  {
   "cell_type": "markdown",
   "id": "762c7b43",
   "metadata": {},
   "source": [
    "Q8. How would you define the superclasses of a class?"
   ]
  },
  {
   "cell_type": "markdown",
   "id": "6e59090c",
   "metadata": {},
   "source": [
    "We can define superclasses by specifying them in parentheses after the class name. Superclasses provide attributes and methods that can be inherited by the subclass."
   ]
  },
  {
   "cell_type": "code",
   "execution_count": 7,
   "id": "9f920154",
   "metadata": {},
   "outputs": [],
   "source": [
    "class Animal:\n",
    "    def __init__(self, species):\n",
    "        self.species = species\n",
    "    def speak(self):\n",
    "        pass\n",
    "class Dog(Animal):\n",
    "    def speak(self):\n",
    "        return \"Woof!\"\n",
    "class Cat(Animal):\n",
    "    def speak(self):\n",
    "        return \"Meow!\""
   ]
  },
  {
   "cell_type": "markdown",
   "id": "a79c0885",
   "metadata": {},
   "source": [
    "# Done Regards,Yashwant"
   ]
  }
 ],
 "metadata": {
  "kernelspec": {
   "display_name": "Python 3 (ipykernel)",
   "language": "python",
   "name": "python3"
  },
  "language_info": {
   "codemirror_mode": {
    "name": "ipython",
    "version": 3
   },
   "file_extension": ".py",
   "mimetype": "text/x-python",
   "name": "python",
   "nbconvert_exporter": "python",
   "pygments_lexer": "ipython3",
   "version": "3.9.13"
  }
 },
 "nbformat": 4,
 "nbformat_minor": 5
}
